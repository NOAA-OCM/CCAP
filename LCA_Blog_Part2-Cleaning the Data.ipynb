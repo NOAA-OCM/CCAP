{
 "cells": [
  {
   "cell_type": "markdown",
   "metadata": {},
   "source": [
    "# Code from Blog 1 is included for continuity"
   ]
  },
  {
   "cell_type": "markdown",
   "metadata": {},
   "source": [
    "## Part 1 - Retrieve the Data from the API\n",
    "\n",
    "Now that we understand how the API request is constructed, let’s start working with our Python script. First, we need to load all of the necessary libraries.\n"
   ]
  },
  {
   "cell_type": "code",
   "execution_count": 1,
   "metadata": {},
   "outputs": [],
   "source": [
    "import os\n",
    "import pandas as pd\n",
    "import requests\n",
    "\n",
    "%matplotlib inline\n",
    "from matplotlib import pyplot as plt"
   ]
  },
  {
   "cell_type": "markdown",
   "metadata": {},
   "source": [
    "To communicate with the API and dynamically request data for different combinations of state FIPS codes, early years, and late years, we need to employ the Requests library. Requests is a library designed to allow users to send HTTP requests with Python. In the function below, we use the method .get to request data from API and load it into a Response object r. The Requests library includes a built in JSON decoder to read the JSON data that is returned and load it into a Pandas dataframe."
   ]
  },
  {
   "cell_type": "code",
   "execution_count": 2,
   "metadata": {},
   "outputs": [],
   "source": [
    "def create_dataframe(fips,early_year,late_year):\n",
    "    \"\"\"\n",
    "    Submits request for data to the API and creates formatted pandas dataframe for use with clustering algorithms\n",
    "    \n",
    "    fips = string defining the 2-digit FIPS code for your state you of interest\n",
    "    early_year = string defining the 1st date of change period (1996, 2001, 2006 or 2010)\n",
    "    late_year = string defining the 2nd date of change period (1996, 2001, 2006 or 2010)\n",
    "    \"\"\"\n",
    "    # Format inputs for url\n",
    "    fips = \"'{}'\".format(fips)\n",
    "    early_year = \"'{}'\".format(early_year)\n",
    "    late_year = \"'{}'\".format(late_year)\n",
    "    \n",
    "    #API request for Land Cover data in JSON format\n",
    "    url = \"https://coast.noaa.gov/opendata/LandCover/api/v1/distributionOfChangeGainsLossesByLandcovers?$filter=startswith(geoId, {0}) and length(geoId) eq 5 and earlyYear eq {1} and lateYear eq {2}\".format(fips, early_year, late_year)\n",
    "    \n",
    "    r = requests.get(url, headers={'Accept': 'application/json'})\n",
    "    data = r.json()\n",
    "    lca_df = pd.DataFrame(data['value'])\n",
    "    \n",
    "    # Set index to the FIPS code and drop Early and Late Year Fields\n",
    "    lca_df_index = lca_df.set_index('geoId').drop(['earlyYear', 'lateYear'], axis=1)\n",
    "    \n",
    "    return lca_df_index"
   ]
  },
  {
   "cell_type": "markdown",
   "metadata": {},
   "source": [
    "Now we will execute the function. The C-CAP Atlas has county level land cover change statistics organized by FIPS code and dates of change. C-CAP has mapped land cover for the years 1996, 2001, 2006 and 2010 using imagery acquired by the Landsat suite of satellites. This means we can look at changes in land cover that have occurred over multiple time series such as coarse intervals like 1996-2010 or we can look at finer scale changes over a 5 year period such as 2001-2006.  For this example, again we will select the state of Connecticut (FIPS code:9) and request land cover changes occurring from 2001-2010. "
   ]
  },
  {
   "cell_type": "code",
   "execution_count": 3,
   "metadata": {},
   "outputs": [],
   "source": [
    "CT_2001_2010 = create_dataframe('09',2001,2010)"
   ]
  },
  {
   "cell_type": "markdown",
   "metadata": {},
   "source": [
    "Let’s confirm our new object contains the correct data using the method .head( ) "
   ]
  },
  {
   "cell_type": "code",
   "execution_count": 4,
   "metadata": {},
   "outputs": [
    {
     "data": {
      "text/html": [
       "<div>\n",
       "<style scoped>\n",
       "    .dataframe tbody tr th:only-of-type {\n",
       "        vertical-align: middle;\n",
       "    }\n",
       "\n",
       "    .dataframe tbody tr th {\n",
       "        vertical-align: top;\n",
       "    }\n",
       "\n",
       "    .dataframe thead th {\n",
       "        text-align: right;\n",
       "    }\n",
       "</style>\n",
       "<table border=\"1\" class=\"dataframe\">\n",
       "  <thead>\n",
       "    <tr style=\"text-align: right;\">\n",
       "      <th></th>\n",
       "      <th>AgrAreaGain</th>\n",
       "      <th>AgrAreaLoss</th>\n",
       "      <th>BarAreaGain</th>\n",
       "      <th>BarAreaLoss</th>\n",
       "      <th>EmwAreaGain</th>\n",
       "      <th>EmwAreaLoss</th>\n",
       "      <th>ForAreaGain</th>\n",
       "      <th>ForAreaLoss</th>\n",
       "      <th>GrsAreaGain</th>\n",
       "      <th>GrsAreaLoss</th>\n",
       "      <th>...</th>\n",
       "      <th>LIDAreaGain</th>\n",
       "      <th>LIDAreaLoss</th>\n",
       "      <th>OSDAreaGain</th>\n",
       "      <th>OSDAreaLoss</th>\n",
       "      <th>SscbAreaGain</th>\n",
       "      <th>SscbAreaLoss</th>\n",
       "      <th>WdwAreaGain</th>\n",
       "      <th>WdwAreaLoss</th>\n",
       "      <th>WtrAreaGain</th>\n",
       "      <th>WtrAreaLoss</th>\n",
       "    </tr>\n",
       "    <tr>\n",
       "      <th>geoId</th>\n",
       "      <th></th>\n",
       "      <th></th>\n",
       "      <th></th>\n",
       "      <th></th>\n",
       "      <th></th>\n",
       "      <th></th>\n",
       "      <th></th>\n",
       "      <th></th>\n",
       "      <th></th>\n",
       "      <th></th>\n",
       "      <th></th>\n",
       "      <th></th>\n",
       "      <th></th>\n",
       "      <th></th>\n",
       "      <th></th>\n",
       "      <th></th>\n",
       "      <th></th>\n",
       "      <th></th>\n",
       "      <th></th>\n",
       "      <th></th>\n",
       "      <th></th>\n",
       "    </tr>\n",
       "  </thead>\n",
       "  <tbody>\n",
       "    <tr>\n",
       "      <th>09001</th>\n",
       "      <td>0.31</td>\n",
       "      <td>-1.64</td>\n",
       "      <td>0.43</td>\n",
       "      <td>-0.20</td>\n",
       "      <td>0.06</td>\n",
       "      <td>-0.16</td>\n",
       "      <td>0.67</td>\n",
       "      <td>-7.58</td>\n",
       "      <td>0.41</td>\n",
       "      <td>-0.30</td>\n",
       "      <td>...</td>\n",
       "      <td>4.33</td>\n",
       "      <td>-0.49</td>\n",
       "      <td>3.61</td>\n",
       "      <td>-1.77</td>\n",
       "      <td>0.49</td>\n",
       "      <td>-0.86</td>\n",
       "      <td>0.05</td>\n",
       "      <td>-0.36</td>\n",
       "      <td>0.05</td>\n",
       "      <td>-0.20</td>\n",
       "    </tr>\n",
       "    <tr>\n",
       "      <th>09003</th>\n",
       "      <td>0.71</td>\n",
       "      <td>-6.39</td>\n",
       "      <td>0.48</td>\n",
       "      <td>-0.19</td>\n",
       "      <td>0.14</td>\n",
       "      <td>-0.19</td>\n",
       "      <td>0.23</td>\n",
       "      <td>-10.56</td>\n",
       "      <td>1.06</td>\n",
       "      <td>-0.17</td>\n",
       "      <td>...</td>\n",
       "      <td>6.25</td>\n",
       "      <td>-0.45</td>\n",
       "      <td>6.91</td>\n",
       "      <td>-1.83</td>\n",
       "      <td>0.95</td>\n",
       "      <td>-1.95</td>\n",
       "      <td>0.08</td>\n",
       "      <td>-0.81</td>\n",
       "      <td>0.06</td>\n",
       "      <td>-0.26</td>\n",
       "    </tr>\n",
       "    <tr>\n",
       "      <th>09005</th>\n",
       "      <td>0.60</td>\n",
       "      <td>-1.03</td>\n",
       "      <td>0.31</td>\n",
       "      <td>-0.06</td>\n",
       "      <td>0.29</td>\n",
       "      <td>-0.10</td>\n",
       "      <td>0.20</td>\n",
       "      <td>-3.89</td>\n",
       "      <td>1.36</td>\n",
       "      <td>-0.22</td>\n",
       "      <td>...</td>\n",
       "      <td>0.77</td>\n",
       "      <td>-0.06</td>\n",
       "      <td>0.97</td>\n",
       "      <td>-0.20</td>\n",
       "      <td>0.84</td>\n",
       "      <td>-0.36</td>\n",
       "      <td>0.13</td>\n",
       "      <td>-0.22</td>\n",
       "      <td>0.12</td>\n",
       "      <td>-0.28</td>\n",
       "    </tr>\n",
       "    <tr>\n",
       "      <th>09007</th>\n",
       "      <td>0.30</td>\n",
       "      <td>-0.92</td>\n",
       "      <td>0.30</td>\n",
       "      <td>-0.09</td>\n",
       "      <td>0.12</td>\n",
       "      <td>-0.09</td>\n",
       "      <td>0.11</td>\n",
       "      <td>-4.09</td>\n",
       "      <td>0.24</td>\n",
       "      <td>-0.16</td>\n",
       "      <td>...</td>\n",
       "      <td>1.72</td>\n",
       "      <td>-0.11</td>\n",
       "      <td>1.37</td>\n",
       "      <td>-0.37</td>\n",
       "      <td>0.69</td>\n",
       "      <td>-0.47</td>\n",
       "      <td>0.05</td>\n",
       "      <td>-0.32</td>\n",
       "      <td>0.08</td>\n",
       "      <td>-0.15</td>\n",
       "    </tr>\n",
       "    <tr>\n",
       "      <th>09009</th>\n",
       "      <td>0.36</td>\n",
       "      <td>-1.92</td>\n",
       "      <td>0.49</td>\n",
       "      <td>-0.27</td>\n",
       "      <td>0.38</td>\n",
       "      <td>-0.13</td>\n",
       "      <td>0.20</td>\n",
       "      <td>-8.45</td>\n",
       "      <td>0.75</td>\n",
       "      <td>-0.59</td>\n",
       "      <td>...</td>\n",
       "      <td>4.05</td>\n",
       "      <td>-0.43</td>\n",
       "      <td>3.93</td>\n",
       "      <td>-1.55</td>\n",
       "      <td>0.71</td>\n",
       "      <td>-1.01</td>\n",
       "      <td>0.06</td>\n",
       "      <td>-0.42</td>\n",
       "      <td>0.15</td>\n",
       "      <td>-0.48</td>\n",
       "    </tr>\n",
       "  </tbody>\n",
       "</table>\n",
       "<p>5 rows × 22 columns</p>\n",
       "</div>"
      ],
      "text/plain": [
       "       AgrAreaGain  AgrAreaLoss  BarAreaGain  BarAreaLoss  EmwAreaGain  \\\n",
       "geoId                                                                    \n",
       "09001         0.31        -1.64         0.43        -0.20         0.06   \n",
       "09003         0.71        -6.39         0.48        -0.19         0.14   \n",
       "09005         0.60        -1.03         0.31        -0.06         0.29   \n",
       "09007         0.30        -0.92         0.30        -0.09         0.12   \n",
       "09009         0.36        -1.92         0.49        -0.27         0.38   \n",
       "\n",
       "       EmwAreaLoss  ForAreaGain  ForAreaLoss  GrsAreaGain  GrsAreaLoss  ...  \\\n",
       "geoId                                                                   ...   \n",
       "09001        -0.16         0.67        -7.58         0.41        -0.30  ...   \n",
       "09003        -0.19         0.23       -10.56         1.06        -0.17  ...   \n",
       "09005        -0.10         0.20        -3.89         1.36        -0.22  ...   \n",
       "09007        -0.09         0.11        -4.09         0.24        -0.16  ...   \n",
       "09009        -0.13         0.20        -8.45         0.75        -0.59  ...   \n",
       "\n",
       "       LIDAreaGain  LIDAreaLoss  OSDAreaGain  OSDAreaLoss  SscbAreaGain  \\\n",
       "geoId                                                                     \n",
       "09001         4.33        -0.49         3.61        -1.77          0.49   \n",
       "09003         6.25        -0.45         6.91        -1.83          0.95   \n",
       "09005         0.77        -0.06         0.97        -0.20          0.84   \n",
       "09007         1.72        -0.11         1.37        -0.37          0.69   \n",
       "09009         4.05        -0.43         3.93        -1.55          0.71   \n",
       "\n",
       "       SscbAreaLoss  WdwAreaGain  WdwAreaLoss  WtrAreaGain  WtrAreaLoss  \n",
       "geoId                                                                    \n",
       "09001         -0.86         0.05        -0.36         0.05        -0.20  \n",
       "09003         -1.95         0.08        -0.81         0.06        -0.26  \n",
       "09005         -0.36         0.13        -0.22         0.12        -0.28  \n",
       "09007         -0.47         0.05        -0.32         0.08        -0.15  \n",
       "09009         -1.01         0.06        -0.42         0.15        -0.48  \n",
       "\n",
       "[5 rows x 22 columns]"
      ]
     },
     "execution_count": 4,
     "metadata": {},
     "output_type": "execute_result"
    }
   ],
   "source": [
    "CT_2001_2010.head()"
   ]
  },
  {
   "cell_type": "markdown",
   "metadata": {},
   "source": [
    "We can also get a list of the column names by using the following code"
   ]
  },
  {
   "cell_type": "code",
   "execution_count": 6,
   "metadata": {},
   "outputs": [
    {
     "data": {
      "text/plain": [
       "['AgrAreaGain',\n",
       " 'AgrAreaLoss',\n",
       " 'BarAreaGain',\n",
       " 'BarAreaLoss',\n",
       " 'EmwAreaGain',\n",
       " 'EmwAreaLoss',\n",
       " 'ForAreaGain',\n",
       " 'ForAreaLoss',\n",
       " 'GrsAreaGain',\n",
       " 'GrsAreaLoss',\n",
       " 'HIDAreaGain',\n",
       " 'HIDAreaLoss',\n",
       " 'LIDAreaGain',\n",
       " 'LIDAreaLoss',\n",
       " 'OSDAreaGain',\n",
       " 'OSDAreaLoss',\n",
       " 'SscbAreaGain',\n",
       " 'SscbAreaLoss',\n",
       " 'WdwAreaGain',\n",
       " 'WdwAreaLoss',\n",
       " 'WtrAreaGain',\n",
       " 'WtrAreaLoss']"
      ]
     },
     "execution_count": 6,
     "metadata": {},
     "output_type": "execute_result"
    }
   ],
   "source": [
    "list(CT_2001_2010.columns.values)"
   ]
  },
  {
   "cell_type": "markdown",
   "metadata": {},
   "source": [
    "# Part 2: Cleaning the Data"
   ]
  },
  {
   "cell_type": "markdown",
   "metadata": {},
   "source": [
    "The objective of this blog post is to introduce some ways we can use the Pandas and GeoPandas libraries to prepare the data we retrieved from the Land Cover Atlas API and get it ready for exploratory analysis with unsupervised machine learning algorithms.  Additionally, we will acquire spatial data from the U.S. Census to be enable us to visualize the results.  To get started, let's import the required libraries"
   ]
  },
  {
   "cell_type": "code",
   "execution_count": 5,
   "metadata": {},
   "outputs": [],
   "source": [
    "import os\n",
    "import pandas as pd\n",
    "import geopandas as gpd\n",
    "import requests\n",
    "import zipfile\n",
    "import io\n",
    "\n",
    "%matplotlib inline\n",
    "from matplotlib import pyplot as plt"
   ]
  },
  {
   "cell_type": "markdown",
   "metadata": {},
   "source": [
    "Once we have loaded all of the necessary libraries,  we are going to need a shapefile representing the county boundaries for the entire U.S. Fortunately, we can easily download a TIGER/Line shapefile from our buddies at the U.S. Census Bureau.  We want to incorporate this data set into our project for 2 purposes:\n",
    "\n",
    "1. Add county names to our Land Cover change DataFrame\n",
    "2. Visualize the results of our exploratory analysis spatially\n",
    "\n",
    "We will talk more about visualization in the next blog post. In the meantime, we can use the function below to download the TIGER/Line shapefile from Census using Requests, unzip it using the Zipfile library and import the shapefile into a GeoPandas GeoDataFrame. "
   ]
  },
  {
   "cell_type": "code",
   "execution_count": 6,
   "metadata": {},
   "outputs": [],
   "source": [
    "def download_shapefile(url, directory):\n",
    "    \"\"\"\n",
    "    Download a shapefile in .zip format from a ftp site. Unzips shapefile and \n",
    "    loads it into a GeoPandas GeoDataFrame\n",
    "    \"\"\"          \n",
    "    print('Downloading shapefile...')\n",
    "        \n",
    "    # Split on the URL on rightmost / and take everything on the right side of that\n",
    "    # Replace .zip file extension with .shp\n",
    "    shapefile = url.rsplit('/', 1)[-1].replace(\".zip\",\".shp\")\n",
    "    \n",
    "    r = requests.get(url)\n",
    "    # Keep contents of the response object as bytes in an in-memory buffer using IO\n",
    "    zipfile.ZipFile(io.BytesIO(r.content)).extractall(directory)\n",
    "            \n",
    "    # Read the shapefile into GeoPandas GeoDataframe   \n",
    "    nation = gpd.read_file(os.path.join(directory,shapefile))\n",
    "    \n",
    "    return nation"
   ]
  },
  {
   "cell_type": "markdown",
   "metadata": {},
   "source": [
    "Execute the function, downloading the data to the directory of your choice."
   ]
  },
  {
   "cell_type": "code",
   "execution_count": 7,
   "metadata": {},
   "outputs": [
    {
     "name": "stdout",
     "output_type": "stream",
     "text": [
      "Downloading shapefile...\n"
     ]
    }
   ],
   "source": [
    "url = \"https://www2.census.gov/geo/tiger/TIGER2017/COUNTY/tl_2017_us_county.zip\"\n",
    "us_counties = download_shapefile(url,\"C:\\\\Projects\\\\Cluster\") # Be sure to rename the directory"
   ]
  },
  {
   "cell_type": "markdown",
   "metadata": {},
   "source": [
    "## Working with GeoPandas Dataframes"
   ]
  },
  {
   "cell_type": "markdown",
   "metadata": {},
   "source": [
    "GeoPandas is an excellent open source library which facilitates working with spatial data in Python. It does this by leveraging the capabilities of the Pandas and Shapely libraries.  Since we have access to all of the operations available in Pandas, let's go ahead and inspect the attributes of our GeoPandas GeoDataFrame using the .info( ) method. This will provide us with a summary of the GeoDataFrame with information such as column data types and non-null values."
   ]
  },
  {
   "cell_type": "code",
   "execution_count": 8,
   "metadata": {},
   "outputs": [
    {
     "name": "stdout",
     "output_type": "stream",
     "text": [
      "<class 'geopandas.geodataframe.GeoDataFrame'>\n",
      "RangeIndex: 3233 entries, 0 to 3232\n",
      "Data columns (total 18 columns):\n",
      "STATEFP     3233 non-null object\n",
      "COUNTYFP    3233 non-null object\n",
      "COUNTYNS    3233 non-null object\n",
      "GEOID       3233 non-null object\n",
      "NAME        3233 non-null object\n",
      "NAMELSAD    3233 non-null object\n",
      "LSAD        3233 non-null object\n",
      "CLASSFP     3233 non-null object\n",
      "MTFCC       3233 non-null object\n",
      "CSAFP       1231 non-null object\n",
      "CBSAFP      1899 non-null object\n",
      "METDIVFP    113 non-null object\n",
      "FUNCSTAT    3233 non-null object\n",
      "ALAND       3233 non-null int64\n",
      "AWATER      3233 non-null int64\n",
      "INTPTLAT    3233 non-null object\n",
      "INTPTLON    3233 non-null object\n",
      "geometry    3233 non-null object\n",
      "dtypes: int64(2), object(16)\n",
      "memory usage: 454.7+ KB\n"
     ]
    }
   ],
   "source": [
    "us_counties.info()"
   ]
  },
  {
   "cell_type": "code",
   "execution_count": 19,
   "metadata": {},
   "outputs": [
    {
     "data": {
      "text/plain": [
       "<matplotlib.axes._subplots.AxesSubplot at 0x22c323eacc0>"
      ]
     },
     "execution_count": 19,
     "metadata": {},
     "output_type": "execute_result"
    },
    {
     "data": {
      "image/png": "[encoded data removed]",
      "text/plain": [
       "<Figure size 432x288 with 1 Axes>"
      ]
     },
     "metadata": {
      "needs_background": "light"
     },
     "output_type": "display_data"
    }
   ],
   "source": [
    "us_counties.plot()"
   ]
  },
  {
   "cell_type": "markdown",
   "metadata": {},
   "source": [
    "I'll admit it's not the most visually appealing map but this provides us with a quick way to verify the geography is correct. \n",
    "\n",
    "Now that we have created a GeoPandas Dataframe, let's leverage some more of those tools available in the Pandas library. Let’s create a new GeoDataFrame that consists of a single coastal state. This can be performed using the .loc method which allows us to access groups of rows and columns. Here we will make our selection based on a state’s FIPS codes to make a new GeoDataFrame.\n",
    "\n",
    "Now that we have made our selection, let's do some cleaning. First things first. Let's eliminate some redundancy. You may have noticed when inspecting the attributes of the GeoDataFrame that there are 2 columns containing county names, NAME and NAMELSAD. Let's use the .drop() method to remove the column called NAME. We also will use the .rename method to rename the GEOID and NAMELSAD columns. Renaming GEOID to geoId is required to enable joining with the land cover data we retrieved from the API. To reduce the lines of code and number of variables required, the methods are chained together on one line. This is a great feature within Python but be careful not to abuse it! See the function below.  "
   ]
  },
  {
   "cell_type": "code",
   "execution_count": 9,
   "metadata": {},
   "outputs": [],
   "source": [
    "def select_state(fips, nation):\n",
    "    \"\"\"\n",
    "    Creates new GeoDataFrame based on FIPS code\n",
    "    \n",
    "    fips:the 2-digit FIPS code for your state you of interest\n",
    "    nation: GeoDataFrame of census counties\n",
    "    \"\"\"\n",
    "      \n",
    "    counties = nation.loc[nation['STATEFP'] == '{0}'.format(fips)].squeeze()\n",
    "    counties = counties.drop(columns=['NAME']).rename(columns={'GEOID': 'geoId','NAMELSAD': 'name'})\n",
    "        \n",
    "    #return counties\n",
    "    return counties"
   ]
  },
  {
   "cell_type": "markdown",
   "metadata": {},
   "source": [
    "Now, we will execute the function. For this example we will select the state of Connecticut (FIPS code: 09). Make sure the FIPS code is provided as a String!  "
   ]
  },
  {
   "cell_type": "code",
   "execution_count": 10,
   "metadata": {},
   "outputs": [],
   "source": [
    "counties_gdf = select_state('09', us_counties)"
   ]
  },
  {
   "cell_type": "markdown",
   "metadata": {},
   "source": [
    "Just to confirm our new object contains changes we made to the columns, let’s use the Pandas method .columns to view a full list of the labels."
   ]
  },
  {
   "cell_type": "code",
   "execution_count": 11,
   "metadata": {},
   "outputs": [
    {
     "data": {
      "text/plain": [
       "Index(['STATEFP', 'COUNTYFP', 'COUNTYNS', 'geoId', 'name', 'LSAD', 'CLASSFP',\n",
       "       'MTFCC', 'CSAFP', 'CBSAFP', 'METDIVFP', 'FUNCSTAT', 'ALAND', 'AWATER',\n",
       "       'INTPTLAT', 'INTPTLON', 'geometry'],\n",
       "      dtype='object')"
      ]
     },
     "execution_count": 11,
     "metadata": {},
     "output_type": "execute_result"
    }
   ],
   "source": [
    "counties_gdf.columns"
   ]
  },
  {
   "cell_type": "markdown",
   "metadata": {},
   "source": [
    "It looks like the modifications are present. While we are at it. Let's use .plot( ) again to check our geography. If everything looks good, we are going to set the GeoDataFrame aside for use in the next blog post."
   ]
  },
  {
   "cell_type": "code",
   "execution_count": 12,
   "metadata": {},
   "outputs": [
    {
     "data": {
      "text/plain": [
       "<matplotlib.axes._subplots.AxesSubplot at 0x1d7fcf785f8>"
      ]
     },
     "execution_count": 12,
     "metadata": {},
     "output_type": "execute_result"
    },
    {
     "data": {
      "image/png": "[encoded data removed]",
      "text/plain": [
       "<Figure size 432x288 with 1 Axes>"
      ]
     },
     "metadata": {
      "needs_background": "light"
     },
     "output_type": "display_data"
    }
   ],
   "source": [
    "counties_gdf.plot()"
   ]
  },
  {
   "cell_type": "markdown",
   "metadata": {},
   "source": [
    "You may have noticed earlier when you inspected the DataFrame of land cover change data that the table only includes FIPS codes. When it comes time to make visualizations of our analysis is may be helpful to be able use the actual county names as labels. To do this, let’s create another Pandas DataFrame with county names and FIPs codes for our state of interest using the GeoPandas GeoDataFrame we created in the last section.  We will accomplish this by using square brackets [ ] to select specific columns (geoId & name) from the GeoDataFrame. To make the upcoming merge process work, we'll need to set the resulting DataFrame's index to the FIPS code ('geoId') using the .set_index( ) method."
   ]
  },
  {
   "cell_type": "code",
   "execution_count": 13,
   "metadata": {},
   "outputs": [],
   "source": [
    "def create_fips_table(dataframe):\n",
    "    \"\"\"\n",
    "    Creates table of FIPS codes and county names for joining to Land Cover DataFrame\n",
    "    \n",
    "    dataframe: Geopandas dataframe of State of interest\n",
    "    \n",
    "    \"\"\"\n",
    "    \n",
    "    county_attributes = pd.DataFrame(dataframe)\n",
    "    fips_names = county_attributes[['geoId','name']].set_index('geoId')\n",
    "    \n",
    "    return fips_names"
   ]
  },
  {
   "cell_type": "markdown",
   "metadata": {},
   "source": [
    "Let's execute the function.  "
   ]
  },
  {
   "cell_type": "code",
   "execution_count": 14,
   "metadata": {},
   "outputs": [],
   "source": [
    "fips_df = create_fips_table(counties_gdf)"
   ]
  },
  {
   "cell_type": "markdown",
   "metadata": {},
   "source": [
    "Once again, let’s confirm our new object contains the correct data using the method .head( )  "
   ]
  },
  {
   "cell_type": "code",
   "execution_count": 15,
   "metadata": {},
   "outputs": [
    {
     "data": {
      "text/html": [
       "<div>\n",
       "<style scoped>\n",
       "    .dataframe tbody tr th:only-of-type {\n",
       "        vertical-align: middle;\n",
       "    }\n",
       "\n",
       "    .dataframe tbody tr th {\n",
       "        vertical-align: top;\n",
       "    }\n",
       "\n",
       "    .dataframe thead th {\n",
       "        text-align: right;\n",
       "    }\n",
       "</style>\n",
       "<table border=\"1\" class=\"dataframe\">\n",
       "  <thead>\n",
       "    <tr style=\"text-align: right;\">\n",
       "      <th></th>\n",
       "      <th>name</th>\n",
       "    </tr>\n",
       "    <tr>\n",
       "      <th>geoId</th>\n",
       "      <th></th>\n",
       "    </tr>\n",
       "  </thead>\n",
       "  <tbody>\n",
       "    <tr>\n",
       "      <th>09007</th>\n",
       "      <td>Middlesex County</td>\n",
       "    </tr>\n",
       "    <tr>\n",
       "      <th>09011</th>\n",
       "      <td>New London County</td>\n",
       "    </tr>\n",
       "    <tr>\n",
       "      <th>09009</th>\n",
       "      <td>New Haven County</td>\n",
       "    </tr>\n",
       "    <tr>\n",
       "      <th>09013</th>\n",
       "      <td>Tolland County</td>\n",
       "    </tr>\n",
       "    <tr>\n",
       "      <th>09003</th>\n",
       "      <td>Hartford County</td>\n",
       "    </tr>\n",
       "  </tbody>\n",
       "</table>\n",
       "</div>"
      ],
      "text/plain": [
       "                    name\n",
       "geoId                   \n",
       "09007   Middlesex County\n",
       "09011  New London County\n",
       "09009   New Haven County\n",
       "09013     Tolland County\n",
       "09003    Hartford County"
      ]
     },
     "execution_count": 15,
     "metadata": {},
     "output_type": "execute_result"
    }
   ],
   "source": [
    "fips_df.head()"
   ]
  },
  {
   "cell_type": "code",
   "execution_count": 16,
   "metadata": {},
   "outputs": [],
   "source": [
    "def merge_dataframes(dataframe,fips_names_df):\n",
    "    \"\"\"\n",
    "    Merges county names to land cover dataframe based on FIPS code\n",
    "    \n",
    "    dataframe: DataFrame with Land Cover change data\n",
    "    fips_names_df: DataFrame with FIPS codes and County Names\n",
    "    \"\"\"\n",
    "    fips_names_index_df = pd.merge(dataframe, fips_names_df,left_index=True,right_index=True).set_index('name')\n",
    "        \n",
    "    return fips_names_index_df"
   ]
  },
  {
   "cell_type": "markdown",
   "metadata": {},
   "source": [
    "In the function below, we use the Pandas method .merge( ) to perform a database-style join of  the county FIPS and names DataFrame with LC Change Dataframe we created from the API. We also use the .set_index( ) method to set the names column as the index of the resulting DataFrame. "
   ]
  },
  {
   "cell_type": "code",
   "execution_count": 19,
   "metadata": {},
   "outputs": [],
   "source": [
    "CT_2001_2010_index = merge_dataframes(CT_2001_2010, fips_df)"
   ]
  },
  {
   "cell_type": "markdown",
   "metadata": {},
   "source": [
    "Once again, let’s confirm our new object contains the correct data using the method .info( )  "
   ]
  },
  {
   "cell_type": "code",
   "execution_count": 20,
   "metadata": {},
   "outputs": [
    {
     "name": "stdout",
     "output_type": "stream",
     "text": [
      "<class 'pandas.core.frame.DataFrame'>\n",
      "Index: 8 entries, Fairfield County to Windham County\n",
      "Data columns (total 22 columns):\n",
      "AgrAreaGain     8 non-null float64\n",
      "AgrAreaLoss     8 non-null float64\n",
      "BarAreaGain     8 non-null float64\n",
      "BarAreaLoss     8 non-null float64\n",
      "EmwAreaGain     8 non-null float64\n",
      "EmwAreaLoss     8 non-null float64\n",
      "ForAreaGain     8 non-null float64\n",
      "ForAreaLoss     8 non-null float64\n",
      "GrsAreaGain     8 non-null float64\n",
      "GrsAreaLoss     8 non-null float64\n",
      "HIDAreaGain     8 non-null float64\n",
      "HIDAreaLoss     8 non-null float64\n",
      "LIDAreaGain     8 non-null float64\n",
      "LIDAreaLoss     8 non-null float64\n",
      "OSDAreaGain     8 non-null float64\n",
      "OSDAreaLoss     8 non-null float64\n",
      "SscbAreaGain    8 non-null float64\n",
      "SscbAreaLoss    8 non-null float64\n",
      "WdwAreaGain     8 non-null float64\n",
      "WdwAreaLoss     8 non-null float64\n",
      "WtrAreaGain     8 non-null float64\n",
      "WtrAreaLoss     8 non-null float64\n",
      "dtypes: float64(22)\n",
      "memory usage: 1.4+ KB\n"
     ]
    }
   ],
   "source": [
    "CT_2001_2010_index.info()"
   ]
  },
  {
   "cell_type": "markdown",
   "metadata": {},
   "source": [
    "## Conclusion"
   ]
  },
  {
   "cell_type": "markdown",
   "metadata": {},
   "source": [
    "And there you have it. You have officially used the Pandas library to clean data sets you retrieved from an API and downloaded from a website. You have sliced columns, dropped columns, renamed columns, set indexes and merged DataFrames. Really, that is just a small sample of what you can do in Pandas. Next, we get down to the nitty gritty and explore our data using unsupervised machine learning. See you soon!\n",
    "    \n",
    "Chris\n"
   ]
  },
  {
   "cell_type": "code",
   "execution_count": null,
   "metadata": {},
   "outputs": [],
   "source": []
  }
 ],
 "metadata": {
  "kernelspec": {
   "display_name": "Python 3",
   "language": "python",
   "name": "python3"
  },
  "language_info": {
   "codemirror_mode": {
    "name": "ipython",
    "version": 3
   },
   "file_extension": ".py",
   "mimetype": "text/x-python",
   "name": "python",
   "nbconvert_exporter": "python",
   "pygments_lexer": "ipython3",
   "version": "3.6.6"
  }
 },
 "nbformat": 4,
 "nbformat_minor": 2
}
